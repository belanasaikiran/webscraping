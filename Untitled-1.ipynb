{
 "cells": [
  {
   "cell_type": "code",
   "execution_count": 1,
   "metadata": {},
   "outputs": [],
   "source": [
    "import numpy"
   ]
  },
  {
   "cell_type": "code",
   "execution_count": 2,
   "metadata": {},
   "outputs": [],
   "source": [
    "import pandas as pd"
   ]
  },
  {
   "cell_type": "code",
   "execution_count": 5,
   "metadata": {},
   "outputs": [],
   "source": [
    "data= pd.read_csv(\"dat.csv\",encoding='cp1252')"
   ]
  },
  {
   "cell_type": "code",
   "execution_count": 24,
   "metadata": {},
   "outputs": [
    {
     "data": {
      "text/html": [
       "<div>\n",
       "<style scoped>\n",
       "    .dataframe tbody tr th:only-of-type {\n",
       "        vertical-align: middle;\n",
       "    }\n",
       "\n",
       "    .dataframe tbody tr th {\n",
       "        vertical-align: top;\n",
       "    }\n",
       "\n",
       "    .dataframe thead th {\n",
       "        text-align: right;\n",
       "    }\n",
       "</style>\n",
       "<table border=\"1\" class=\"dataframe\">\n",
       "  <thead>\n",
       "    <tr style=\"text-align: right;\">\n",
       "      <th></th>\n",
       "      <th>CASE_NUMBER</th>\n",
       "      <th>CASE_STATUS</th>\n",
       "      <th>VISA_CLASS</th>\n",
       "      <th>JOB_TITLE</th>\n",
       "      <th>SOC_TITLE</th>\n",
       "      <th>FULL_TIME_POSITION</th>\n",
       "      <th>TOTAL_WORKER_POSITIONS</th>\n",
       "      <th>EMPLOYER_NAME</th>\n",
       "      <th>EMPLOYER_CITY</th>\n",
       "      <th>EMPLOYER_STATE</th>\n",
       "      <th>...</th>\n",
       "      <th>WAGE_RATE_OF_PAY_FROM</th>\n",
       "      <th>WAGE_RATE_OF_PAY_TO</th>\n",
       "      <th>WAGE_UNIT_OF_PAY</th>\n",
       "      <th>PREVAILING_WAGE</th>\n",
       "      <th>PW_UNIT_OF_PAY</th>\n",
       "      <th>PW_WAGE_LEVEL</th>\n",
       "      <th>TOTAL_WORKSITE_LOCATIONS</th>\n",
       "      <th>WILLFUL_VIOLATOR</th>\n",
       "      <th>SUPPORT_H1B</th>\n",
       "      <th>STATUTORY_BASIS</th>\n",
       "    </tr>\n",
       "  </thead>\n",
       "  <tbody>\n",
       "    <tr>\n",
       "      <th>0</th>\n",
       "      <td>I-200-21176-426581</td>\n",
       "      <td>Certified</td>\n",
       "      <td>H-1B</td>\n",
       "      <td>SOFTWARE APPLICATION DEVELOPER I</td>\n",
       "      <td>Software Developer</td>\n",
       "      <td>Y</td>\n",
       "      <td>1</td>\n",
       "      <td>Texas A&amp;M University</td>\n",
       "      <td>College Station</td>\n",
       "      <td>TX</td>\n",
       "      <td>...</td>\n",
       "      <td>56389.0</td>\n",
       "      <td>NaN</td>\n",
       "      <td>Year</td>\n",
       "      <td>56389.0</td>\n",
       "      <td>Year</td>\n",
       "      <td>I</td>\n",
       "      <td>1</td>\n",
       "      <td>No</td>\n",
       "      <td>NaN</td>\n",
       "      <td>NaN</td>\n",
       "    </tr>\n",
       "    <tr>\n",
       "      <th>1</th>\n",
       "      <td>I-200-21176-427773</td>\n",
       "      <td>Certified</td>\n",
       "      <td>H-1B</td>\n",
       "      <td>Advisor, Cloud Specialist</td>\n",
       "      <td>Software Developer</td>\n",
       "      <td>Y</td>\n",
       "      <td>1</td>\n",
       "      <td>Caremark LLC</td>\n",
       "      <td>Woonsocket</td>\n",
       "      <td>RI</td>\n",
       "      <td>...</td>\n",
       "      <td>122700.0</td>\n",
       "      <td>NaN</td>\n",
       "      <td>Year</td>\n",
       "      <td>108555.0</td>\n",
       "      <td>Year</td>\n",
       "      <td>III</td>\n",
       "      <td>3</td>\n",
       "      <td>No</td>\n",
       "      <td>NaN</td>\n",
       "      <td>NaN</td>\n",
       "    </tr>\n",
       "    <tr>\n",
       "      <th>2</th>\n",
       "      <td>I-200-21176-425956</td>\n",
       "      <td>Certified</td>\n",
       "      <td>H-1B</td>\n",
       "      <td>BUSINESS INTELLIGENCE ENGINEER II</td>\n",
       "      <td>Business Intelligence Analysts</td>\n",
       "      <td>Y</td>\n",
       "      <td>1</td>\n",
       "      <td>AMAZON.COM SERVICES LLC</td>\n",
       "      <td>SEATTLE</td>\n",
       "      <td>WA</td>\n",
       "      <td>...</td>\n",
       "      <td>120000.0</td>\n",
       "      <td>NaN</td>\n",
       "      <td>Year</td>\n",
       "      <td>77875.0</td>\n",
       "      <td>Year</td>\n",
       "      <td>II</td>\n",
       "      <td>2</td>\n",
       "      <td>No</td>\n",
       "      <td>NaN</td>\n",
       "      <td>NaN</td>\n",
       "    </tr>\n",
       "    <tr>\n",
       "      <th>3</th>\n",
       "      <td>I-200-21176-427514</td>\n",
       "      <td>Certified</td>\n",
       "      <td>H-1B</td>\n",
       "      <td>Software Developer</td>\n",
       "      <td>Software Developer</td>\n",
       "      <td>Y</td>\n",
       "      <td>1</td>\n",
       "      <td>Euclid Innovations, Inc.</td>\n",
       "      <td>Charlotte</td>\n",
       "      <td>NC</td>\n",
       "      <td>...</td>\n",
       "      <td>93558.0</td>\n",
       "      <td>NaN</td>\n",
       "      <td>Year</td>\n",
       "      <td>93558.0</td>\n",
       "      <td>Year</td>\n",
       "      <td>II</td>\n",
       "      <td>2</td>\n",
       "      <td>No</td>\n",
       "      <td>Yes</td>\n",
       "      <td>$60,000 or higher annual wage</td>\n",
       "    </tr>\n",
       "    <tr>\n",
       "      <th>4</th>\n",
       "      <td>I-200-21176-426177</td>\n",
       "      <td>Certified</td>\n",
       "      <td>H-1B</td>\n",
       "      <td>Senior Software Engineer</td>\n",
       "      <td>Software Developer</td>\n",
       "      <td>Y</td>\n",
       "      <td>1</td>\n",
       "      <td>Akamai Technologies, Inc.</td>\n",
       "      <td>Cambridge</td>\n",
       "      <td>MA</td>\n",
       "      <td>...</td>\n",
       "      <td>133900.0</td>\n",
       "      <td>160400.0</td>\n",
       "      <td>Year</td>\n",
       "      <td>133821.0</td>\n",
       "      <td>Year</td>\n",
       "      <td>NaN</td>\n",
       "      <td>1</td>\n",
       "      <td>No</td>\n",
       "      <td>NaN</td>\n",
       "      <td>NaN</td>\n",
       "    </tr>\n",
       "  </tbody>\n",
       "</table>\n",
       "<p>5 rows × 28 columns</p>\n",
       "</div>"
      ],
      "text/plain": [
       "          CASE_NUMBER CASE_STATUS VISA_CLASS  \\\n",
       "0  I-200-21176-426581   Certified       H-1B   \n",
       "1  I-200-21176-427773   Certified       H-1B   \n",
       "2  I-200-21176-425956   Certified       H-1B   \n",
       "3  I-200-21176-427514   Certified       H-1B   \n",
       "4  I-200-21176-426177   Certified       H-1B   \n",
       "\n",
       "                           JOB_TITLE                       SOC_TITLE  \\\n",
       "0   SOFTWARE APPLICATION DEVELOPER I              Software Developer   \n",
       "1          Advisor, Cloud Specialist              Software Developer   \n",
       "2  BUSINESS INTELLIGENCE ENGINEER II  Business Intelligence Analysts   \n",
       "3                 Software Developer              Software Developer   \n",
       "4           Senior Software Engineer              Software Developer   \n",
       "\n",
       "  FULL_TIME_POSITION  TOTAL_WORKER_POSITIONS              EMPLOYER_NAME  \\\n",
       "0                  Y                       1       Texas A&M University   \n",
       "1                  Y                       1               Caremark LLC   \n",
       "2                  Y                       1    AMAZON.COM SERVICES LLC   \n",
       "3                  Y                       1   Euclid Innovations, Inc.   \n",
       "4                  Y                       1  Akamai Technologies, Inc.   \n",
       "\n",
       "     EMPLOYER_CITY EMPLOYER_STATE  ...  WAGE_RATE_OF_PAY_FROM  \\\n",
       "0  College Station             TX  ...                56389.0   \n",
       "1       Woonsocket             RI  ...               122700.0   \n",
       "2          SEATTLE             WA  ...               120000.0   \n",
       "3        Charlotte             NC  ...                93558.0   \n",
       "4        Cambridge             MA  ...               133900.0   \n",
       "\n",
       "  WAGE_RATE_OF_PAY_TO  WAGE_UNIT_OF_PAY PREVAILING_WAGE PW_UNIT_OF_PAY  \\\n",
       "0                 NaN              Year         56389.0           Year   \n",
       "1                 NaN              Year        108555.0           Year   \n",
       "2                 NaN              Year         77875.0           Year   \n",
       "3                 NaN              Year         93558.0           Year   \n",
       "4            160400.0              Year        133821.0           Year   \n",
       "\n",
       "  PW_WAGE_LEVEL TOTAL_WORKSITE_LOCATIONS  WILLFUL_VIOLATOR  SUPPORT_H1B  \\\n",
       "0             I                        1                No          NaN   \n",
       "1           III                        3                No          NaN   \n",
       "2            II                        2                No          NaN   \n",
       "3            II                        2                No          Yes   \n",
       "4           NaN                        1                No          NaN   \n",
       "\n",
       "                 STATUTORY_BASIS  \n",
       "0                            NaN  \n",
       "1                            NaN  \n",
       "2                            NaN  \n",
       "3  $60,000 or higher annual wage  \n",
       "4                            NaN  \n",
       "\n",
       "[5 rows x 28 columns]"
      ]
     },
     "execution_count": 24,
     "metadata": {},
     "output_type": "execute_result"
    }
   ],
   "source": [
    "data.head()"
   ]
  },
  {
   "cell_type": "code",
   "execution_count": 13,
   "metadata": {},
   "outputs": [],
   "source": [
    "import nltk"
   ]
  },
  {
   "cell_type": "code",
   "execution_count": 18,
   "metadata": {},
   "outputs": [],
   "source": [
    "check = data['JOB_TITLE']=='Software Developer'"
   ]
  },
  {
   "cell_type": "code",
   "execution_count": 19,
   "metadata": {},
   "outputs": [],
   "source": [
    "science = data['JOB_TITLE']=='DataScientist'"
   ]
  },
  {
   "cell_type": "code",
   "execution_count": 20,
   "metadata": {},
   "outputs": [
    {
     "data": {
      "text/plain": [
       "69040"
      ]
     },
     "execution_count": 20,
     "metadata": {},
     "output_type": "execute_result"
    }
   ],
   "source": [
    "(data[\"JOB_TITLE\"]=='Software Developer').count()"
   ]
  },
  {
   "cell_type": "code",
   "execution_count": 29,
   "metadata": {},
   "outputs": [
    {
     "data": {
      "text/plain": [
       "69040"
      ]
     },
     "execution_count": 29,
     "metadata": {},
     "output_type": "execute_result"
    }
   ],
   "source": [
    "science.count()"
   ]
  },
  {
   "cell_type": "code",
   "execution_count": 33,
   "metadata": {},
   "outputs": [],
   "source": [
    "data['lower_jobtitle'] = data['JOB_TITLE'].apply(lambda x: x.lower())"
   ]
  },
  {
   "cell_type": "code",
   "execution_count": 37,
   "metadata": {},
   "outputs": [
    {
     "data": {
      "text/plain": [
       "0        0\n",
       "1       -1\n",
       "2       -1\n",
       "3        0\n",
       "4        7\n",
       "        ..\n",
       "69035    0\n",
       "69036   -1\n",
       "69037    0\n",
       "69038    0\n",
       "69039   -1\n",
       "Name: new, Length: 69040, dtype: int64"
      ]
     },
     "execution_count": 37,
     "metadata": {},
     "output_type": "execute_result"
    }
   ],
   "source": [
    "sub ='software'\n",
    " \n",
    "# start var\n",
    "start = 0\n",
    " \n",
    "# creating and passing series to new column\n",
    "data[\"new\"]= data[\"lower_jobtitle\"].str.find(sub, start)\n",
    " \n",
    "# display\n",
    "data['new']"
   ]
  },
  {
   "cell_type": "code",
   "execution_count": null,
   "metadata": {},
   "outputs": [],
   "source": []
  }
 ],
 "metadata": {
  "kernelspec": {
   "display_name": "Python 3",
   "language": "python",
   "name": "python3"
  },
  "language_info": {
   "codemirror_mode": {
    "name": "ipython",
    "version": 3
   },
   "file_extension": ".py",
   "mimetype": "text/x-python",
   "name": "python",
   "nbconvert_exporter": "python",
   "pygments_lexer": "ipython3",
   "version": "3.9.2"
  },
  "orig_nbformat": 4,
  "vscode": {
   "interpreter": {
    "hash": "81794d4967e6c3204c66dcd87b604927b115b27c00565d3d43f05ba2f3a2cb0d"
   }
  }
 },
 "nbformat": 4,
 "nbformat_minor": 2
}
