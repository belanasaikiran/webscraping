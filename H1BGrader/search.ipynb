{
 "cells": [
  {
   "cell_type": "code",
   "execution_count": null,
   "metadata": {},
   "outputs": [],
   "source": [
    "import csv\n",
    "from selenium import webdriver\n",
    "from time import sleep\n",
    "from selenium.webdriver.common.by import By\n",
    "from selenium.webdriver.common.keys import Keys\n",
    "import nltk\n",
    "# Create webdriver object\n",
    "driver = webdriver.Chrome()\n"
   ]
  },
  {
   "cell_type": "code",
   "execution_count": null,
   "metadata": {},
   "outputs": [],
   "source": [
    "# Sheet2 - [Company, Job Title, Min Salary, Avg.Salary, Max.Salary]\n",
    "JobFields = ['Company', 'Job Title', 'Min Salary', 'Avg Salary', 'Max Salary']\n",
    "JobsData = []\n",
    "\n",
    "\n",
    "Companies = ['Amazon.com Services LLC','Cognizant Technology Solutions US Corp','Google LLC','Microsoft Corporation','Tata Consultancy Services Limited','Ernst & Young US LLP','Infosys Limited','Meta Platforms INC','Deloitte Consulting LLP','Amazon Web Services INC','Apple INC','Intel Corporation','Capgemini America INC','Wal Mart Associates INC','Jpmorgan Chase & CO','HCL America INC','Accenture LLP','Qualcomm Technologies INC','Wipro Limited','Compunnel Software Group INC','Tekorg INC','Cisco Systems INC','IBM Corporation','Amazon Development Center US INC','Deloitte & Touche LLP','International Business Machines Corporation','Larsen & Toubro Infotech Limited','Mphasis Corporation','Tech Mahindra Americas INC','Linkedin Corporation','Goldman Sachs & CO LLC','Fidelity Technology Group LLC','Salesforce.com INC','Salesforce INC','Pricewaterhousecoopers Advisory Services LL','CTesla INC','Mindtree Limited','Oracle America INC','Vmware INC','Citibank NA','Paypal INC','Ford Motor Company','Uber Technologies INC','Cummins INC','Atos Syntel INC','Mastech Digital Technologies INC','Facebook INC','CGI Technologies and Solutions INC','Capital One Services LLC',  'Adobe INC']\n",
    "\n",
    "\n",
    "\n",
    "JobKeyWords = {'Data Scientist': 0, 'Software Developer': 0, 'Software Engineer': 0, 'Analyst': 0, 'Machine': 0, 'DevOps': 0, 'Cloud': 0, 'Software System': 0,\n",
    "               'Software Quality': 0, 'AWS': 0, 'Azure': 0, 'Google Cloud': 0, 'Software Quality': 0,  'Tableau': 0, 'Automation': 0, 'PowerBi': 0}\n"
   ]
  },
  {
   "cell_type": "code",
   "execution_count": null,
   "metadata": {},
   "outputs": [],
   "source": [
    "def H1B_Url():\n",
    "    driver.get('https://h1bgrader.com/')\n",
    "\n",
    "\n",
    "def SearchCompany(i):\n",
    "        # Search Company Data\n",
    "    search = driver.find_element(By.ID, 'employer')\n",
    "    print(i)\n",
    "    # search.click()\n",
    "    search.send_keys(i)\n",
    "    buttonClick = driver.find_element(By.CLASS_NAME, 'search-button')\n",
    "    buttonClick.click()\n",
    "    # Select Job_Title Button\n",
    "    driver.find_element(By.ID, 'employer-job-tabb').click()\n",
    "\n",
    "\n",
    "\n",
    "def Jobs():\n",
    "    for i in range(1, 11):\n",
    "        # get Job Title\n",
    "        job = driver.find_element(By.XPATH, '//*[@id=\"salary-data-table\"]/tbody/tr['+str(i)+']/td[1]/a')\n",
    "        # print(job.text)\n",
    "\n",
    "        try:\n",
    "            if job in JobKeyWords:\n",
    "                print(job.text)\n",
    "                JobKeyWords[job] += 1\n",
    "                print(JobKeyWords[job])\n",
    "                print(\"Job KeyBoards\", JobKeyWords)\n",
    "            else:\n",
    "                print(\"Job title Doesn't match in\", JobKeyWords )\n",
    "        except:\n",
    "            print(\"Job title Doesn't match\")\n",
    "\n"
   ]
  },
  {
   "cell_type": "code",
   "execution_count": null,
   "metadata": {},
   "outputs": [],
   "source": [
    "\n",
    "for i in Companies:\n",
    "\n",
    "    try:\n",
    "        H1B_Url()\n",
    "        SearchCompany(i)\n",
    "        Jobs()\n",
    "\n",
    "\n",
    "    except:\n",
    "        print(\"Error Occured\")\n"
   ]
  }
 ],
 "metadata": {
  "kernelspec": {
   "display_name": "Python 3.10.6 64-bit",
   "language": "python",
   "name": "python3"
  },
  "language_info": {
   "codemirror_mode": {
    "name": "ipython",
    "version": 3
   },
   "file_extension": ".py",
   "mimetype": "text/x-python",
   "name": "python",
   "nbconvert_exporter": "python",
   "pygments_lexer": "ipython3",
   "version": "3.10.6"
  },
  "orig_nbformat": 4,
  "vscode": {
   "interpreter": {
    "hash": "e7370f93d1d0cde622a1f8e1c04877d8463912d04d973331ad4851f04de6915a"
   }
  }
 },
 "nbformat": 4,
 "nbformat_minor": 2
}
